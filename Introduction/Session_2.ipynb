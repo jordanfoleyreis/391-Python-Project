{
  "cells": [
    {
      "cell_type": "markdown",
      "id": "63d3ab2c-3fa0-4725-9da2-102d48b21f72",
      "metadata": {
        "id": "63d3ab2c-3fa0-4725-9da2-102d48b21f72"
      },
      "source": [
        "Session 2:\n",
        "- Core Python Syntax & Data Structures\n",
        "- File Handling & Data Preview"
      ]
    },
    {
      "cell_type": "code",
      "execution_count": null,
      "id": "8a3e6145-af4b-4539-adb9-e9380b346a2c",
      "metadata": {
        "id": "8a3e6145-af4b-4539-adb9-e9380b346a2c",
        "outputId": "ed5f6795-51f8-43c6-f345-01f3ee543b8d"
      },
      "outputs": [
        {
          "name": "stdout",
          "output_type": "stream",
          "text": [
            "Name type is  <class 'str'>\n",
            "students type is  <class 'int'>\n",
            "Price type is  <class 'float'>\n",
            "is_enrolled type is  <class 'bool'>\n"
          ]
        }
      ],
      "source": [
        "name = \"Hoda\"           # String\n",
        "students = 30            # Integer\n",
        "price = 19.99            # Float\n",
        "is_enrolled = True       # Boolean\n",
        "\n",
        "# Write the type of each variable\n",
        "print(\"Name type is \", type(name))\n",
        "print(\"students type is \", type(students))\n",
        "print(\"Price type is \", type(price))\n",
        "print(\"is_enrolled type is \", type(is_enrolled))\n"
      ]
    },
    {
      "cell_type": "code",
      "execution_count": null,
      "id": "1509f15f-7ad5-48e3-ad7e-1aa5bfc26409",
      "metadata": {
        "id": "1509f15f-7ad5-48e3-ad7e-1aa5bfc26409",
        "outputId": "b411ea09-4645-474e-cee5-04e3ea29d775"
      },
      "outputs": [
        {
          "name": "stdout",
          "output_type": "stream",
          "text": [
            "pen\n",
            "['pen', 'notebook', 'stapler', 'eraser']\n"
          ]
        }
      ],
      "source": [
        "# Make Lists (ordered and indexed)\n",
        "products = [\"pen\", \"notebook\", \"stapler\"]\n",
        "\n",
        "# Access items\n",
        "print(products[0])      # \"pen\"\n",
        "products.append(\"eraser\")  # Add to the end of the list\n",
        "print(products)"
      ]
    },
    {
      "cell_type": "code",
      "execution_count": null,
      "id": "8e281ba7-1a2a-4e75-9585-4f3f8fb9b075",
      "metadata": {
        "id": "8e281ba7-1a2a-4e75-9585-4f3f8fb9b075",
        "outputId": "2c61e880-3cb8-407a-9cb4-7bb9bf054c4d"
      },
      "outputs": [
        {
          "name": "stdout",
          "output_type": "stream",
          "text": [
            "1.5\n",
            "{'pen': 1.75, 'notebook': 3.0, 'stapler': 7.5}\n"
          ]
        }
      ],
      "source": [
        "# Make dictionaries: key-value pairs, like labeled data:\n",
        "\n",
        "product_prices = {\n",
        "    \"pen\": 1.5,\n",
        "    \"notebook\": 3.0,\n",
        "    \"stapler\": 7.5\n",
        "}\n",
        "\n",
        "print(product_prices[\"pen\"])    # Access by key\n",
        "product_prices[\"pen\"] = 1.75    # Update value\n",
        "print(product_prices)"
      ]
    },
    {
      "cell_type": "code",
      "execution_count": null,
      "id": "0fac45d4-6b7f-4407-a027-470bfc1b8ead",
      "metadata": {
        "id": "0fac45d4-6b7f-4407-a027-470bfc1b8ead",
        "outputId": "6c5d5636-776a-4a3b-8d29-d4110a4f28ca"
      },
      "outputs": [
        {
          "name": "stdout",
          "output_type": "stream",
          "text": [
            "Selling: pen\n",
            "Selling: notebook\n",
            "Selling: stapler\n",
            "Selling: eraser\n"
          ]
        }
      ],
      "source": [
        "# for loop\n",
        "for product in products:\n",
        "    print(\"Selling:\", product)"
      ]
    },
    {
      "cell_type": "code",
      "execution_count": null,
      "id": "5acf34ca-7c8a-42cb-833f-76aae9dd55cf",
      "metadata": {
        "id": "5acf34ca-7c8a-42cb-833f-76aae9dd55cf",
        "outputId": "c85c87b3-6d40-4da9-d53e-18c2b51a26db"
      },
      "outputs": [
        {
          "name": "stdout",
          "output_type": "stream",
          "text": [
            "Reasonable\n"
          ]
        }
      ],
      "source": [
        "# if statement\n",
        "price = 4.5\n",
        "if price > 5:\n",
        "    print(\"Expensive\")\n",
        "else:\n",
        "    print(\"Reasonable\")"
      ]
    },
    {
      "cell_type": "code",
      "execution_count": null,
      "id": "8f92c95c-8567-4acf-905e-5ee9dd0fd87e",
      "metadata": {
        "id": "8f92c95c-8567-4acf-905e-5ee9dd0fd87e",
        "outputId": "34e1685e-d4f0-4453-97e3-c88f4e0350d5"
      },
      "outputs": [
        {
          "name": "stdout",
          "output_type": "stream",
          "text": [
            "Looping 0\n",
            "Looping 1\n",
            "Looping 2\n"
          ]
        }
      ],
      "source": [
        "# While loop\n",
        "count = 0\n",
        "while count < 3:\n",
        "    print(\"Looping\", count)\n",
        "    count += 1def total_cost(price, quantity):\n",
        "    return price * quantity\n",
        "\n",
        "print(total_cost(5.5, 10))"
      ]
    },
    {
      "cell_type": "code",
      "execution_count": null,
      "id": "3aaa75c4-29f9-4205-aac2-7be8b6737d1e",
      "metadata": {
        "id": "3aaa75c4-29f9-4205-aac2-7be8b6737d1e",
        "outputId": "5756b203-c5a5-4277-fd04-14596db3f06c"
      },
      "outputs": [
        {
          "name": "stdout",
          "output_type": "stream",
          "text": [
            "55.0\n"
          ]
        }
      ],
      "source": [
        "# function\n",
        "def total_cost(price, quantity):\n",
        "    return price * quantity\n",
        "\n",
        "print(total_cost(5.5, 10))"
      ]
    },
    {
      "cell_type": "code",
      "execution_count": null,
      "id": "8e31e9a3-226a-489e-aaa6-92bba82a6b01",
      "metadata": {
        "id": "8e31e9a3-226a-489e-aaa6-92bba82a6b01",
        "outputId": "c2fe4a69-6627-460e-820b-c420281a8ff3"
      },
      "outputs": [
        {
          "name": "stdout",
          "output_type": "stream",
          "text": [
            "Requirement already satisfied: pandas in c:\\users\\hatef\\anaconda3\\lib\\site-packages (2.2.3)\n",
            "Requirement already satisfied: numpy>=1.26.0 in c:\\users\\hatef\\anaconda3\\lib\\site-packages (from pandas) (2.1.3)\n",
            "Requirement already satisfied: python-dateutil>=2.8.2 in c:\\users\\hatef\\anaconda3\\lib\\site-packages (from pandas) (2.9.0.post0)\n",
            "Requirement already satisfied: pytz>=2020.1 in c:\\users\\hatef\\anaconda3\\lib\\site-packages (from pandas) (2024.1)\n",
            "Requirement already satisfied: tzdata>=2022.7 in c:\\users\\hatef\\anaconda3\\lib\\site-packages (from pandas) (2025.2)\n",
            "Requirement already satisfied: six>=1.5 in c:\\users\\hatef\\anaconda3\\lib\\site-packages (from python-dateutil>=2.8.2->pandas) (1.17.0)\n"
          ]
        }
      ],
      "source": [
        "# Part 3: File Handling & Data Preview\n",
        "!pip install pandas\n",
        "import pandas as pd"
      ]
    },
    {
      "cell_type": "code",
      "execution_count": null,
      "id": "cf31ba3f-c55e-4363-b0a9-a36c7bce0920",
      "metadata": {
        "id": "cf31ba3f-c55e-4363-b0a9-a36c7bce0920",
        "outputId": "97560e27-7670-42e4-8740-285db333c284"
      },
      "outputs": [
        {
          "name": "stdout",
          "output_type": "stream",
          "text": [
            "{'Product': ['Pen', 'Notebook', 'Stapler'], 'Price': [1.5, 3.0, 7.5], 'Quantity': [100, 80, 60]}\n",
            "    Product  Price  Quantity\n",
            "0       Pen    1.5       100\n",
            "1  Notebook    3.0        80\n",
            "2   Stapler    7.5        60\n"
          ]
        }
      ],
      "source": [
        "data = {\n",
        "    \"Product\": [\"Pen\", \"Notebook\", \"Stapler\"],\n",
        "    \"Price\": [1.5, 3.0, 7.5],\n",
        "    \"Quantity\": [100, 80, 60]\n",
        "}\n",
        " # It is sensitive to upper case and lower case.\n",
        "\n",
        "df = pd.DataFrame(data)\n",
        "\n",
        "# Let's see the difference:\n",
        "print(data)\n",
        "print (df)\n",
        "\n",
        "# Save to CSV\n",
        "df.to_csv(\"sample_sales.csv\", index=False)  # search for this name to see where it is saved.\n"
      ]
    },
    {
      "cell_type": "code",
      "execution_count": null,
      "id": "86b9703e-7b3e-4370-816f-0042e610a688",
      "metadata": {
        "id": "86b9703e-7b3e-4370-816f-0042e610a688"
      },
      "outputs": [],
      "source": [
        "# Read CSV file\n",
        "df = pd.read_csv(\"sample_sales.csv\")"
      ]
    },
    {
      "cell_type": "code",
      "execution_count": null,
      "id": "9e6b9ac5-350a-4728-b0e8-c7552683562f",
      "metadata": {
        "id": "9e6b9ac5-350a-4728-b0e8-c7552683562f"
      },
      "outputs": [],
      "source": [
        "# Describe and Preview the data\n",
        "#df.head()         # Show first 5 rows\n",
        "#df.tail()         # Show last 5 rows\n",
        "#df.columns        # List all column names\n",
        "#df.shape          # Rows x columns\n",
        "#df.info()         # Data types and null values\n",
        "#df.describe()     # Summary statistics for numeric columns"
      ]
    },
    {
      "cell_type": "code",
      "execution_count": null,
      "id": "74c325d2-f4fe-415f-9396-e6d55efe6edb",
      "metadata": {
        "id": "74c325d2-f4fe-415f-9396-e6d55efe6edb",
        "outputId": "ce7faf82-2c58-485a-cdec-cd34d78cf9b9"
      },
      "outputs": [
        {
          "data": {
            "text/html": [
              "<div>\n",
              "<style scoped>\n",
              "    .dataframe tbody tr th:only-of-type {\n",
              "        vertical-align: middle;\n",
              "    }\n",
              "\n",
              "    .dataframe tbody tr th {\n",
              "        vertical-align: top;\n",
              "    }\n",
              "\n",
              "    .dataframe thead th {\n",
              "        text-align: right;\n",
              "    }\n",
              "</style>\n",
              "<table border=\"1\" class=\"dataframe\">\n",
              "  <thead>\n",
              "    <tr style=\"text-align: right;\">\n",
              "      <th></th>\n",
              "      <th>Product</th>\n",
              "      <th>Price</th>\n",
              "      <th>Quantity</th>\n",
              "    </tr>\n",
              "  </thead>\n",
              "  <tbody>\n",
              "    <tr>\n",
              "      <th>0</th>\n",
              "      <td>Pen</td>\n",
              "      <td>1.5</td>\n",
              "      <td>100</td>\n",
              "    </tr>\n",
              "    <tr>\n",
              "      <th>1</th>\n",
              "      <td>Notebook</td>\n",
              "      <td>3.0</td>\n",
              "      <td>80</td>\n",
              "    </tr>\n",
              "    <tr>\n",
              "      <th>2</th>\n",
              "      <td>Stapler</td>\n",
              "      <td>7.5</td>\n",
              "      <td>60</td>\n",
              "    </tr>\n",
              "  </tbody>\n",
              "</table>\n",
              "</div>"
            ],
            "text/plain": [
              "    Product  Price  Quantity\n",
              "0       Pen    1.5       100\n",
              "1  Notebook    3.0        80\n",
              "2   Stapler    7.5        60"
            ]
          },
          "execution_count": 20,
          "metadata": {},
          "output_type": "execute_result"
        }
      ],
      "source": [
        "df.head()         # Show first 5 rows"
      ]
    },
    {
      "cell_type": "code",
      "execution_count": null,
      "id": "c53d19e4-940b-449b-b466-4129a7f02fb6",
      "metadata": {
        "id": "c53d19e4-940b-449b-b466-4129a7f02fb6",
        "outputId": "5742f6cd-2273-4f7d-f9ff-74aa3b42b5c0"
      },
      "outputs": [
        {
          "data": {
            "text/html": [
              "<div>\n",
              "<style scoped>\n",
              "    .dataframe tbody tr th:only-of-type {\n",
              "        vertical-align: middle;\n",
              "    }\n",
              "\n",
              "    .dataframe tbody tr th {\n",
              "        vertical-align: top;\n",
              "    }\n",
              "\n",
              "    .dataframe thead th {\n",
              "        text-align: right;\n",
              "    }\n",
              "</style>\n",
              "<table border=\"1\" class=\"dataframe\">\n",
              "  <thead>\n",
              "    <tr style=\"text-align: right;\">\n",
              "      <th></th>\n",
              "      <th>Product</th>\n",
              "      <th>Price</th>\n",
              "      <th>Quantity</th>\n",
              "    </tr>\n",
              "  </thead>\n",
              "  <tbody>\n",
              "    <tr>\n",
              "      <th>0</th>\n",
              "      <td>Pen</td>\n",
              "      <td>1.5</td>\n",
              "      <td>100</td>\n",
              "    </tr>\n",
              "    <tr>\n",
              "      <th>1</th>\n",
              "      <td>Notebook</td>\n",
              "      <td>3.0</td>\n",
              "      <td>80</td>\n",
              "    </tr>\n",
              "    <tr>\n",
              "      <th>2</th>\n",
              "      <td>Stapler</td>\n",
              "      <td>7.5</td>\n",
              "      <td>60</td>\n",
              "    </tr>\n",
              "  </tbody>\n",
              "</table>\n",
              "</div>"
            ],
            "text/plain": [
              "    Product  Price  Quantity\n",
              "0       Pen    1.5       100\n",
              "1  Notebook    3.0        80\n",
              "2   Stapler    7.5        60"
            ]
          },
          "execution_count": 18,
          "metadata": {},
          "output_type": "execute_result"
        }
      ],
      "source": [
        "df.tail()         # Show last 5 rows"
      ]
    },
    {
      "cell_type": "code",
      "execution_count": null,
      "id": "df9c6211-881a-4601-b88a-acf351078d6b",
      "metadata": {
        "id": "df9c6211-881a-4601-b88a-acf351078d6b",
        "outputId": "8cd48590-dbf4-424c-a4e7-b1420c8c02d8"
      },
      "outputs": [
        {
          "data": {
            "text/plain": [
              "Index(['Product', 'Price', 'Quantity'], dtype='object')"
            ]
          },
          "execution_count": 19,
          "metadata": {},
          "output_type": "execute_result"
        }
      ],
      "source": [
        "df.columns        # List all column names"
      ]
    },
    {
      "cell_type": "code",
      "execution_count": null,
      "id": "e261de7b-8a53-4bdc-9cfb-4c7ea71ea637",
      "metadata": {
        "id": "e261de7b-8a53-4bdc-9cfb-4c7ea71ea637",
        "outputId": "0a1dba78-8f02-4133-b2b3-391fe2ca86c0"
      },
      "outputs": [
        {
          "data": {
            "text/plain": [
              "(3, 3)"
            ]
          },
          "execution_count": 15,
          "metadata": {},
          "output_type": "execute_result"
        }
      ],
      "source": [
        "df.shape          # Rows x columns"
      ]
    },
    {
      "cell_type": "code",
      "execution_count": null,
      "id": "02ad1079-50e2-4119-9775-bc2e43c54c07",
      "metadata": {
        "id": "02ad1079-50e2-4119-9775-bc2e43c54c07",
        "outputId": "8b5a6ef4-ce15-4e2e-d2b7-47c8a1a08b1b"
      },
      "outputs": [
        {
          "name": "stdout",
          "output_type": "stream",
          "text": [
            "<class 'pandas.core.frame.DataFrame'>\n",
            "RangeIndex: 3 entries, 0 to 2\n",
            "Data columns (total 3 columns):\n",
            " #   Column    Non-Null Count  Dtype  \n",
            "---  ------    --------------  -----  \n",
            " 0   Product   3 non-null      object \n",
            " 1   Price     3 non-null      float64\n",
            " 2   Quantity  3 non-null      int64  \n",
            "dtypes: float64(1), int64(1), object(1)\n",
            "memory usage: 204.0+ bytes\n"
          ]
        }
      ],
      "source": [
        "df.info()         # Data types and null values"
      ]
    },
    {
      "cell_type": "code",
      "execution_count": null,
      "id": "7e7c0979-403c-4967-b9fa-ed60880284e2",
      "metadata": {
        "id": "7e7c0979-403c-4967-b9fa-ed60880284e2",
        "outputId": "c56430e4-a56b-4b5f-9de6-9d7b08011878"
      },
      "outputs": [
        {
          "data": {
            "text/html": [
              "<div>\n",
              "<style scoped>\n",
              "    .dataframe tbody tr th:only-of-type {\n",
              "        vertical-align: middle;\n",
              "    }\n",
              "\n",
              "    .dataframe tbody tr th {\n",
              "        vertical-align: top;\n",
              "    }\n",
              "\n",
              "    .dataframe thead th {\n",
              "        text-align: right;\n",
              "    }\n",
              "</style>\n",
              "<table border=\"1\" class=\"dataframe\">\n",
              "  <thead>\n",
              "    <tr style=\"text-align: right;\">\n",
              "      <th></th>\n",
              "      <th>Price</th>\n",
              "      <th>Quantity</th>\n",
              "    </tr>\n",
              "  </thead>\n",
              "  <tbody>\n",
              "    <tr>\n",
              "      <th>count</th>\n",
              "      <td>3.000000</td>\n",
              "      <td>3.0</td>\n",
              "    </tr>\n",
              "    <tr>\n",
              "      <th>mean</th>\n",
              "      <td>4.000000</td>\n",
              "      <td>80.0</td>\n",
              "    </tr>\n",
              "    <tr>\n",
              "      <th>std</th>\n",
              "      <td>3.122499</td>\n",
              "      <td>20.0</td>\n",
              "    </tr>\n",
              "    <tr>\n",
              "      <th>min</th>\n",
              "      <td>1.500000</td>\n",
              "      <td>60.0</td>\n",
              "    </tr>\n",
              "    <tr>\n",
              "      <th>25%</th>\n",
              "      <td>2.250000</td>\n",
              "      <td>70.0</td>\n",
              "    </tr>\n",
              "    <tr>\n",
              "      <th>50%</th>\n",
              "      <td>3.000000</td>\n",
              "      <td>80.0</td>\n",
              "    </tr>\n",
              "    <tr>\n",
              "      <th>75%</th>\n",
              "      <td>5.250000</td>\n",
              "      <td>90.0</td>\n",
              "    </tr>\n",
              "    <tr>\n",
              "      <th>max</th>\n",
              "      <td>7.500000</td>\n",
              "      <td>100.0</td>\n",
              "    </tr>\n",
              "  </tbody>\n",
              "</table>\n",
              "</div>"
            ],
            "text/plain": [
              "          Price  Quantity\n",
              "count  3.000000       3.0\n",
              "mean   4.000000      80.0\n",
              "std    3.122499      20.0\n",
              "min    1.500000      60.0\n",
              "25%    2.250000      70.0\n",
              "50%    3.000000      80.0\n",
              "75%    5.250000      90.0\n",
              "max    7.500000     100.0"
            ]
          },
          "execution_count": 17,
          "metadata": {},
          "output_type": "execute_result"
        }
      ],
      "source": [
        "df.describe()     # Summary statistics for numeric columns"
      ]
    },
    {
      "cell_type": "code",
      "execution_count": null,
      "id": "6392afdd-9f64-4b06-9456-d7574aeeb620",
      "metadata": {
        "id": "6392afdd-9f64-4b06-9456-d7574aeeb620"
      },
      "outputs": [],
      "source": [
        "# A lot of time, we want to focuse on a spocific part of our data.\n",
        "# Access and Filter Data"
      ]
    },
    {
      "cell_type": "code",
      "execution_count": null,
      "id": "5b0f0472-18e2-47f9-9d2f-a625749eb5cb",
      "metadata": {
        "id": "5b0f0472-18e2-47f9-9d2f-a625749eb5cb",
        "outputId": "45e91a61-0d69-4f95-a866-8f0043d1da78"
      },
      "outputs": [
        {
          "data": {
            "text/html": [
              "<div>\n",
              "<style scoped>\n",
              "    .dataframe tbody tr th:only-of-type {\n",
              "        vertical-align: middle;\n",
              "    }\n",
              "\n",
              "    .dataframe tbody tr th {\n",
              "        vertical-align: top;\n",
              "    }\n",
              "\n",
              "    .dataframe thead th {\n",
              "        text-align: right;\n",
              "    }\n",
              "</style>\n",
              "<table border=\"1\" class=\"dataframe\">\n",
              "  <thead>\n",
              "    <tr style=\"text-align: right;\">\n",
              "      <th></th>\n",
              "      <th>Price</th>\n",
              "      <th>Quantity</th>\n",
              "    </tr>\n",
              "  </thead>\n",
              "  <tbody>\n",
              "    <tr>\n",
              "      <th>0</th>\n",
              "      <td>1.5</td>\n",
              "      <td>100</td>\n",
              "    </tr>\n",
              "    <tr>\n",
              "      <th>1</th>\n",
              "      <td>3.0</td>\n",
              "      <td>80</td>\n",
              "    </tr>\n",
              "    <tr>\n",
              "      <th>2</th>\n",
              "      <td>7.5</td>\n",
              "      <td>60</td>\n",
              "    </tr>\n",
              "    <tr>\n",
              "      <th>3</th>\n",
              "      <td>1.0</td>\n",
              "      <td>90</td>\n",
              "    </tr>\n",
              "  </tbody>\n",
              "</table>\n",
              "</div>"
            ],
            "text/plain": [
              "   Price  Quantity\n",
              "0    1.5       100\n",
              "1    3.0        80\n",
              "2    7.5        60\n",
              "3    1.0        90"
            ]
          },
          "execution_count": 58,
          "metadata": {},
          "output_type": "execute_result"
        }
      ],
      "source": [
        "#  Access a column\n",
        "df_price = df [\"Price\"]\n",
        "print (df_price)\n",
        "\n",
        "df [[\"Price\", \"Quantity\"]]\n"
      ]
    },
    {
      "cell_type": "code",
      "execution_count": null,
      "id": "a55429df-ced1-4e29-9746-ccb088ccebe5",
      "metadata": {
        "id": "a55429df-ced1-4e29-9746-ccb088ccebe5",
        "outputId": "8cbdc112-7d1b-41ce-ccdb-d3e7e5287e8b"
      },
      "outputs": [
        {
          "name": "stdout",
          "output_type": "stream",
          "text": [
            "    Product  Price  Quantity\n",
            "1  Notebook    3.0        80\n",
            "2   Stapler    7.5        60\n"
          ]
        },
        {
          "data": {
            "text/html": [
              "<div>\n",
              "<style scoped>\n",
              "    .dataframe tbody tr th:only-of-type {\n",
              "        vertical-align: middle;\n",
              "    }\n",
              "\n",
              "    .dataframe tbody tr th {\n",
              "        vertical-align: top;\n",
              "    }\n",
              "\n",
              "    .dataframe thead th {\n",
              "        text-align: right;\n",
              "    }\n",
              "</style>\n",
              "<table border=\"1\" class=\"dataframe\">\n",
              "  <thead>\n",
              "    <tr style=\"text-align: right;\">\n",
              "      <th></th>\n",
              "      <th>Product</th>\n",
              "      <th>Price</th>\n",
              "      <th>Quantity</th>\n",
              "    </tr>\n",
              "  </thead>\n",
              "  <tbody>\n",
              "    <tr>\n",
              "      <th>1</th>\n",
              "      <td>Notebook</td>\n",
              "      <td>3.0</td>\n",
              "      <td>80</td>\n",
              "    </tr>\n",
              "  </tbody>\n",
              "</table>\n",
              "</div>"
            ],
            "text/plain": [
              "    Product  Price  Quantity\n",
              "1  Notebook    3.0        80"
            ]
          },
          "execution_count": 62,
          "metadata": {},
          "output_type": "execute_result"
        }
      ],
      "source": [
        "df_p_m2 = df [df[\"Price\"]>=2]  #shows all columns of the rows that satisfy the rule.\n",
        "print (df_p_m2)\n",
        "\n",
        "df[df[\"Product\"] == \"Notebook\"]"
      ]
    },
    {
      "cell_type": "code",
      "execution_count": null,
      "id": "4856ad2e-cc39-41d3-b750-e5cf812637b3",
      "metadata": {
        "id": "4856ad2e-cc39-41d3-b750-e5cf812637b3",
        "outputId": "2f68537f-7108-463f-9969-5657a133309c"
      },
      "outputs": [
        {
          "data": {
            "text/html": [
              "<div>\n",
              "<style scoped>\n",
              "    .dataframe tbody tr th:only-of-type {\n",
              "        vertical-align: middle;\n",
              "    }\n",
              "\n",
              "    .dataframe tbody tr th {\n",
              "        vertical-align: top;\n",
              "    }\n",
              "\n",
              "    .dataframe thead th {\n",
              "        text-align: right;\n",
              "    }\n",
              "</style>\n",
              "<table border=\"1\" class=\"dataframe\">\n",
              "  <thead>\n",
              "    <tr style=\"text-align: right;\">\n",
              "      <th></th>\n",
              "      <th>Product</th>\n",
              "      <th>Price</th>\n",
              "      <th>Quantity</th>\n",
              "      <th>Revenue</th>\n",
              "    </tr>\n",
              "  </thead>\n",
              "  <tbody>\n",
              "    <tr>\n",
              "      <th>0</th>\n",
              "      <td>Pen</td>\n",
              "      <td>1.5</td>\n",
              "      <td>100</td>\n",
              "      <td>150.0</td>\n",
              "    </tr>\n",
              "    <tr>\n",
              "      <th>1</th>\n",
              "      <td>Notebook</td>\n",
              "      <td>3.0</td>\n",
              "      <td>80</td>\n",
              "      <td>240.0</td>\n",
              "    </tr>\n",
              "    <tr>\n",
              "      <th>2</th>\n",
              "      <td>Stapler</td>\n",
              "      <td>7.5</td>\n",
              "      <td>60</td>\n",
              "      <td>450.0</td>\n",
              "    </tr>\n",
              "  </tbody>\n",
              "</table>\n",
              "</div>"
            ],
            "text/plain": [
              "    Product  Price  Quantity  Revenue\n",
              "0       Pen    1.5       100    150.0\n",
              "1  Notebook    3.0        80    240.0\n",
              "2   Stapler    7.5        60    450.0"
            ]
          },
          "execution_count": 25,
          "metadata": {},
          "output_type": "execute_result"
        }
      ],
      "source": [
        "# Add a new column\n",
        "\n",
        "df[\"Revenue\"] = df[\"Price\"] * df[\"Quantity\"]\n",
        "df"
      ]
    },
    {
      "cell_type": "code",
      "execution_count": null,
      "id": "6c823ac1-d1d7-4f24-b267-f942e0204d1e",
      "metadata": {
        "id": "6c823ac1-d1d7-4f24-b267-f942e0204d1e"
      },
      "outputs": [],
      "source": [
        "# Define the new row as a DataFrame, using a dictionary\n",
        "\n",
        "new_row = pd.DataFrame({\n",
        "    \"Product\": [\"Eraser\"],\n",
        "    \"Price\": [1.0],\n",
        "    \"Quantity\": [90]\n",
        "})\n",
        "\n",
        "# Append using pd.concat\n",
        "df = pd.concat([df, new_row], ignore_index=True)  # avoid messing up with the index numbers if the new row had an index before."
      ]
    },
    {
      "cell_type": "code",
      "execution_count": null,
      "id": "ee526457-c0dc-4159-af3b-4709070fadaf",
      "metadata": {
        "id": "ee526457-c0dc-4159-af3b-4709070fadaf",
        "outputId": "7af43b31-efab-423b-a9d5-477299cacf2f"
      },
      "outputs": [
        {
          "name": "stdout",
          "output_type": "stream",
          "text": [
            "  Product  Price  Quantity\n",
            "0  Eraser    1.0        90\n"
          ]
        },
        {
          "data": {
            "text/html": [
              "<div>\n",
              "<style scoped>\n",
              "    .dataframe tbody tr th:only-of-type {\n",
              "        vertical-align: middle;\n",
              "    }\n",
              "\n",
              "    .dataframe tbody tr th {\n",
              "        vertical-align: top;\n",
              "    }\n",
              "\n",
              "    .dataframe thead th {\n",
              "        text-align: right;\n",
              "    }\n",
              "</style>\n",
              "<table border=\"1\" class=\"dataframe\">\n",
              "  <thead>\n",
              "    <tr style=\"text-align: right;\">\n",
              "      <th></th>\n",
              "      <th>Product</th>\n",
              "      <th>Price</th>\n",
              "      <th>Quantity</th>\n",
              "    </tr>\n",
              "  </thead>\n",
              "  <tbody>\n",
              "    <tr>\n",
              "      <th>0</th>\n",
              "      <td>Pen</td>\n",
              "      <td>1.5</td>\n",
              "      <td>100</td>\n",
              "    </tr>\n",
              "    <tr>\n",
              "      <th>1</th>\n",
              "      <td>Notebook</td>\n",
              "      <td>3.0</td>\n",
              "      <td>80</td>\n",
              "    </tr>\n",
              "    <tr>\n",
              "      <th>2</th>\n",
              "      <td>Stapler</td>\n",
              "      <td>7.5</td>\n",
              "      <td>60</td>\n",
              "    </tr>\n",
              "    <tr>\n",
              "      <th>3</th>\n",
              "      <td>Eraser</td>\n",
              "      <td>1.0</td>\n",
              "      <td>90</td>\n",
              "    </tr>\n",
              "  </tbody>\n",
              "</table>\n",
              "</div>"
            ],
            "text/plain": [
              "    Product  Price  Quantity\n",
              "0       Pen    1.5       100\n",
              "1  Notebook    3.0        80\n",
              "2   Stapler    7.5        60\n",
              "3    Eraser    1.0        90"
            ]
          },
          "execution_count": 52,
          "metadata": {},
          "output_type": "execute_result"
        }
      ],
      "source": [
        "# Define the new row as a DataFrame, without a dictionary\n",
        "\n",
        "row_values = [[\"Eraser\", 1.0, 90 ]]   # just values\n",
        "new_row = pd.DataFrame(row_values, columns= df.columns)  # make a row\n",
        "print (new_row)\n",
        "\n",
        "df = pd.concat([df, new_row], ignore_index=True)  # try it with ignore_index = False to see the issue!\n",
        "df"
      ]
    },
    {
      "cell_type": "code",
      "execution_count": null,
      "id": "cb685fe4-8aa9-4177-a0ba-07e572449356",
      "metadata": {
        "id": "cb685fe4-8aa9-4177-a0ba-07e572449356"
      },
      "outputs": [],
      "source": []
    }
  ],
  "metadata": {
    "kernelspec": {
      "display_name": "Python [conda env:base] *",
      "language": "python",
      "name": "conda-base-py"
    },
    "language_info": {
      "codemirror_mode": {
        "name": "ipython",
        "version": 3
      },
      "file_extension": ".py",
      "mimetype": "text/x-python",
      "name": "python",
      "nbconvert_exporter": "python",
      "pygments_lexer": "ipython3",
      "version": "3.13.5"
    },
    "colab": {
      "provenance": []
    }
  },
  "nbformat": 4,
  "nbformat_minor": 5
}