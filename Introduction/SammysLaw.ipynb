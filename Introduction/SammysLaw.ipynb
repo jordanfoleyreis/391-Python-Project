{
 "cells": [
  {
   "cell_type": "markdown",
   "id": "40f87062",
   "metadata": {},
   "source": [
    "#Intro to Python Sesson 1"
   ]
  },
  {
   "cell_type": "code",
   "execution_count": 6,
   "id": "ec754396",
   "metadata": {},
   "outputs": [],
   "source": [
    "x=3\n",
    "y=4\n",
    "Z=x+y\n",
    "print(Z)"
   ]
  },
  {
   "cell_type": "code",
   "execution_count": 8,
   "id": "ca7ed872",
   "metadata": {},
   "outputs": [
    {
     "name": "stdout",
     "output_type": "stream",
     "text": [
      "7\n"
     ]
    }
   ],
   "source": [
    "pip install pandas numpy matplotlib scipy pulp"
   ]
  },
  {
   "cell_type": "code",
   "execution_count": 3,
   "id": "5ec41531",
   "metadata": {},
   "outputs": [],
   "source": [
    "import pandas as pd\n",
    "import numpy as np\n",
    "import matplotlib.pyplot as plt\n",
    "import scipy.optimize as opt\n",
    "import pulp"
   ]
  },
  {
   "cell_type": "markdown",
   "id": "1762e21c",
   "metadata": {},
   "source": [
    "# Create a Data Frame:"
   ]
  },
  {
   "cell_type": "code",
   "execution_count": 4,
   "id": "2b06bc5e",
   "metadata": {},
   "outputs": [
    {
     "data": {
      "text/html": [
       "<div>\n",
       "<style scoped>\n",
       "    .dataframe tbody tr th:only-of-type {\n",
       "        vertical-align: middle;\n",
       "    }\n",
       "\n",
       "    .dataframe tbody tr th {\n",
       "        vertical-align: top;\n",
       "    }\n",
       "\n",
       "    .dataframe thead th {\n",
       "        text-align: right;\n",
       "    }\n",
       "</style>\n",
       "<table border=\"1\" class=\"dataframe\">\n",
       "  <thead>\n",
       "    <tr style=\"text-align: right;\">\n",
       "      <th></th>\n",
       "      <th>Product</th>\n",
       "      <th>Price</th>\n",
       "      <th>Quantity</th>\n",
       "    </tr>\n",
       "  </thead>\n",
       "  <tbody>\n",
       "    <tr>\n",
       "      <th>0</th>\n",
       "      <td>A</td>\n",
       "      <td>10</td>\n",
       "      <td>100</td>\n",
       "    </tr>\n",
       "    <tr>\n",
       "      <th>1</th>\n",
       "      <td>B</td>\n",
       "      <td>15</td>\n",
       "      <td>80</td>\n",
       "    </tr>\n",
       "    <tr>\n",
       "      <th>2</th>\n",
       "      <td>C</td>\n",
       "      <td>7</td>\n",
       "      <td>120</td>\n",
       "    </tr>\n",
       "  </tbody>\n",
       "</table>\n",
       "</div>"
      ],
      "text/plain": [
       "  Product  Price  Quantity\n",
       "0       A     10       100\n",
       "1       B     15        80\n",
       "2       C      7       120"
      ]
     },
     "metadata": {},
     "output_type": "display_data"
    },
    {
     "data": {
      "text/html": [
       "<div>\n",
       "<style scoped>\n",
       "    .dataframe tbody tr th:only-of-type {\n",
       "        vertical-align: middle;\n",
       "    }\n",
       "\n",
       "    .dataframe tbody tr th {\n",
       "        vertical-align: top;\n",
       "    }\n",
       "\n",
       "    .dataframe thead th {\n",
       "        text-align: right;\n",
       "    }\n",
       "</style>\n",
       "<table border=\"1\" class=\"dataframe\">\n",
       "  <thead>\n",
       "    <tr style=\"text-align: right;\">\n",
       "      <th></th>\n",
       "      <th>Product</th>\n",
       "      <th>Price</th>\n",
       "      <th>Quantity</th>\n",
       "      <th>Revenue</th>\n",
       "    </tr>\n",
       "  </thead>\n",
       "  <tbody>\n",
       "    <tr>\n",
       "      <th>0</th>\n",
       "      <td>A</td>\n",
       "      <td>10</td>\n",
       "      <td>100</td>\n",
       "      <td>1000</td>\n",
       "    </tr>\n",
       "    <tr>\n",
       "      <th>1</th>\n",
       "      <td>B</td>\n",
       "      <td>15</td>\n",
       "      <td>80</td>\n",
       "      <td>1200</td>\n",
       "    </tr>\n",
       "    <tr>\n",
       "      <th>2</th>\n",
       "      <td>C</td>\n",
       "      <td>7</td>\n",
       "      <td>120</td>\n",
       "      <td>840</td>\n",
       "    </tr>\n",
       "  </tbody>\n",
       "</table>\n",
       "</div>"
      ],
      "text/plain": [
       "  Product  Price  Quantity  Revenue\n",
       "0       A     10       100     1000\n",
       "1       B     15        80     1200\n",
       "2       C      7       120      840"
      ]
     },
     "metadata": {},
     "output_type": "display_data"
    }
   ],
   "source": [
    "df=pd.DataFrame({\n",
    "   'Product' : ['A', 'B', 'C'],\n",
    "    'Price'  : [10,15,7],\n",
    "    'Quantity' : [100,80,120]\n",
    "})\n",
    "\n",
    "display(df)\n",
    "df ['Revenue'] = df['Price'] * df['Quantity']\n",
    "\n",
    "display(df)\n"
   ]
  },
  {
   "cell_type": "code",
   "execution_count": 7,
   "id": "4a208af3",
   "metadata": {},
   "outputs": [
    {
     "name": "stdout",
     "output_type": "stream",
     "text": [
      "OFV*: 3.0 at x= [-2.00000001]\n"
     ]
    }
   ],
   "source": [
    "# simple quadratic optimization model\n",
    "from scipy import optimize\n",
    "\n",
    "def objective (x):\n",
    "    return (x+2)**2+3\n",
    "\n",
    "result = optimize.minimize(objective, x0 = 2)\n",
    "print(\"OFV*:\", result.fun, \"at x=\", result.x)"
   ]
  },
  {
   "cell_type": "code",
   "execution_count": 9,
   "id": "847f66e7",
   "metadata": {},
   "outputs": [
    {
     "name": "stdout",
     "output_type": "stream",
     "text": [
      "Welcome to the CBC MILP Solver \n",
      "Version: 2.10.3 \n",
      "Build Date: Dec 15 2019 \n",
      "\n",
      "command line - /opt/anaconda3/lib/python3.13/site-packages/pulp/apis/../solverdir/cbc/osx/i64/cbc /var/folders/lt/m7_m5d6d2nq3_tl5ycf8prkc0000gn/T/670d7358a18e4412b291d3e8c7108f3c-pulp.mps -max -timeMode elapsed -branch -printingOptions all -solution /var/folders/lt/m7_m5d6d2nq3_tl5ycf8prkc0000gn/T/670d7358a18e4412b291d3e8c7108f3c-pulp.sol (default strategy 1)\n",
      "At line 2 NAME          MODEL\n",
      "At line 3 ROWS\n",
      "At line 7 COLUMNS\n",
      "At line 14 RHS\n",
      "At line 17 BOUNDS\n",
      "At line 18 ENDATA\n",
      "Problem MODEL has 2 rows, 2 columns and 4 elements\n",
      "Coin0008I MODEL read with 0 errors\n",
      "Option for timeMode changed from cpu to elapsed\n",
      "Presolve 0 (-2) rows, 0 (-2) columns and 0 (-4) elements\n",
      "Empty problem - 0 rows, 0 columns and 0 elements\n",
      "Optimal - objective value 30\n",
      "After Postsolve, objective 30, infeasibilities - dual 0 (0), primal 0 (0)\n",
      "Optimal objective 30 - 0 iterations time 0.002, Presolve 0.00\n",
      "Option for printingOptions changed from normal to all\n",
      "Total time (CPU seconds):       0.00   (Wallclock seconds):       0.00\n",
      "\n",
      "LP Solution: x = 10.0 y = 0.0\n",
      "Objective = 30.0\n"
     ]
    }
   ],
   "source": [
    "# Simple LP\n",
    "model = pulp.LpProblem(\"Simple_LP\", pulp.LpMaximize)  #lowercase p is essential! # spaces in names are not suggested!\n",
    "\n",
    "x = pulp.LpVariable('x', lowBound=0)\n",
    "y = pulp.LpVariable('y', lowBound=0)\n",
    "\n",
    "model += 3*x + 2*y   # Objective function\n",
    "model += x + y <= 10\n",
    "model += x - y >= 3\n",
    "\n",
    "model.solve()\n",
    "\n",
    "print(\"LP Solution:\", \"x =\", x.varValue, \"y =\", y.varValue)\n",
    "print(\"Objective =\", pulp.value(model.objective))"
   ]
  }
 ],
 "metadata": {
  "kernelspec": {
   "display_name": "base",
   "language": "python",
   "name": "python3"
  },
  "language_info": {
   "codemirror_mode": {
    "name": "ipython",
    "version": 3
   },
   "file_extension": ".py",
   "mimetype": "text/x-python",
   "name": "python",
   "nbconvert_exporter": "python",
   "pygments_lexer": "ipython3",
   "version": "3.13.5"
  }
 },
 "nbformat": 4,
 "nbformat_minor": 5
}
