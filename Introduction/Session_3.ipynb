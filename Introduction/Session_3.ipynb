{
  "cells": [
    {
      "cell_type": "markdown",
      "id": "8032bd72-e025-425e-a1d2-202d099a522c",
      "metadata": {
        "id": "8032bd72-e025-425e-a1d2-202d099a522c"
      },
      "source": [
        "Session 3:\n",
        "- Data Aggregation"
      ]
    },
    {
      "cell_type": "code",
      "execution_count": null,
      "id": "ed3a3db0-671e-4d3d-bd4a-af867dc90f59",
      "metadata": {
        "id": "ed3a3db0-671e-4d3d-bd4a-af867dc90f59"
      },
      "outputs": [],
      "source": [
        "- Preparation"
      ]
    },
    {
      "cell_type": "code",
      "execution_count": null,
      "id": "4be5efc2-5bcc-4998-b63b-00a7ea0fdf78",
      "metadata": {
        "id": "4be5efc2-5bcc-4998-b63b-00a7ea0fdf78"
      },
      "outputs": [],
      "source": [
        "import pandas as pd\n",
        "\n",
        "# Make a DataFrame\n",
        "data = {\n",
        "    \"Product\": [\"Pen\", \"Notebook\", \"Pen\", \"Eraser\", \"Notebook\", \"Stapler\"],\n",
        "    \"Price\": [1.5, 3.0, 1.5, 1.0, 3.0, 7.5],\n",
        "    \"Quantity\": [100, 80, 50, 90, 60, 30],\n",
        "    \"Region\": [\"West\", \"East\", \"East\", \"West\", \"West\", \"East\"]\n",
        "}\n",
        "\n",
        "df = pd.DataFrame(data)\n",
        "\n",
        "# Save as a CSV file\n",
        "df.to_csv (\"sales_data.csv\", index = False)"
      ]
    },
    {
      "cell_type": "code",
      "execution_count": null,
      "id": "371cca7c-159a-4067-b638-ec220a667ba4",
      "metadata": {
        "id": "371cca7c-159a-4067-b638-ec220a667ba4"
      },
      "outputs": [],
      "source": [
        "# Load and read the CSV file\n",
        "\n",
        "pd.read_csv(\"sales_data.csv\")"
      ]
    },
    {
      "cell_type": "code",
      "execution_count": null,
      "id": "8e789846-049d-4370-ae69-261096d9725d",
      "metadata": {
        "id": "8e789846-049d-4370-ae69-261096d9725d",
        "outputId": "ffc028d9-f248-44e2-9068-2547f2561133"
      },
      "outputs": [
        {
          "data": {
            "text/html": [
              "<div>\n",
              "<style scoped>\n",
              "    .dataframe tbody tr th:only-of-type {\n",
              "        vertical-align: middle;\n",
              "    }\n",
              "\n",
              "    .dataframe tbody tr th {\n",
              "        vertical-align: top;\n",
              "    }\n",
              "\n",
              "    .dataframe thead th {\n",
              "        text-align: right;\n",
              "    }\n",
              "</style>\n",
              "<table border=\"1\" class=\"dataframe\">\n",
              "  <thead>\n",
              "    <tr style=\"text-align: right;\">\n",
              "      <th></th>\n",
              "      <th>Product</th>\n",
              "      <th>Price</th>\n",
              "      <th>Quantity</th>\n",
              "      <th>Region</th>\n",
              "      <th>Revenue</th>\n",
              "    </tr>\n",
              "  </thead>\n",
              "  <tbody>\n",
              "    <tr>\n",
              "      <th>0</th>\n",
              "      <td>Pen</td>\n",
              "      <td>1.5</td>\n",
              "      <td>100</td>\n",
              "      <td>West</td>\n",
              "      <td>150.0</td>\n",
              "    </tr>\n",
              "    <tr>\n",
              "      <th>1</th>\n",
              "      <td>Notebook</td>\n",
              "      <td>3.0</td>\n",
              "      <td>80</td>\n",
              "      <td>East</td>\n",
              "      <td>240.0</td>\n",
              "    </tr>\n",
              "    <tr>\n",
              "      <th>2</th>\n",
              "      <td>Pen</td>\n",
              "      <td>1.5</td>\n",
              "      <td>50</td>\n",
              "      <td>East</td>\n",
              "      <td>75.0</td>\n",
              "    </tr>\n",
              "    <tr>\n",
              "      <th>3</th>\n",
              "      <td>Eraser</td>\n",
              "      <td>1.0</td>\n",
              "      <td>90</td>\n",
              "      <td>West</td>\n",
              "      <td>90.0</td>\n",
              "    </tr>\n",
              "    <tr>\n",
              "      <th>4</th>\n",
              "      <td>Notebook</td>\n",
              "      <td>3.0</td>\n",
              "      <td>60</td>\n",
              "      <td>West</td>\n",
              "      <td>180.0</td>\n",
              "    </tr>\n",
              "    <tr>\n",
              "      <th>5</th>\n",
              "      <td>Stapler</td>\n",
              "      <td>7.5</td>\n",
              "      <td>30</td>\n",
              "      <td>East</td>\n",
              "      <td>225.0</td>\n",
              "    </tr>\n",
              "  </tbody>\n",
              "</table>\n",
              "</div>"
            ],
            "text/plain": [
              "    Product  Price  Quantity Region  Revenue\n",
              "0       Pen    1.5       100   West    150.0\n",
              "1  Notebook    3.0        80   East    240.0\n",
              "2       Pen    1.5        50   East     75.0\n",
              "3    Eraser    1.0        90   West     90.0\n",
              "4  Notebook    3.0        60   West    180.0\n",
              "5   Stapler    7.5        30   East    225.0"
            ]
          },
          "execution_count": 20,
          "metadata": {},
          "output_type": "execute_result"
        }
      ],
      "source": [
        "# Calculate and create a new column\n",
        "\n",
        "df [\"Revenue\"] = df [\"Price\"] * df [\"Quantity\"]\n",
        "df"
      ]
    },
    {
      "cell_type": "markdown",
      "id": "dddb4538-bfcc-4e59-aa06-0b76c4ab882e",
      "metadata": {
        "id": "dddb4538-bfcc-4e59-aa06-0b76c4ab882e"
      },
      "source": [
        "- Data Aggregation"
      ]
    },
    {
      "cell_type": "code",
      "execution_count": null,
      "id": "c2cbf528-6418-4d64-9a1d-92f0a958e0ef",
      "metadata": {
        "id": "c2cbf528-6418-4d64-9a1d-92f0a958e0ef",
        "outputId": "e003b35e-282b-46be-8c12-1fb214359d4d"
      },
      "outputs": [
        {
          "data": {
            "text/plain": [
              "Region\n",
              "East    690.0\n",
              "West    240.0\n",
              "Name: Revenue, dtype: float64"
            ]
          },
          "execution_count": 5,
          "metadata": {},
          "output_type": "execute_result"
        }
      ],
      "source": [
        "# group based on region, and find the revenue summation for each group\n",
        "df.groupby (\"Region\")[\"Revenue\"].sum()"
      ]
    },
    {
      "cell_type": "code",
      "execution_count": null,
      "id": "8ec0a317-1857-4fcd-8b4e-85cb11a6b44e",
      "metadata": {
        "id": "8ec0a317-1857-4fcd-8b4e-85cb11a6b44e",
        "outputId": "0a4231a7-6317-4faa-ca6f-d0e00ce914d5"
      },
      "outputs": [
        {
          "data": {
            "text/plain": [
              "Region\n",
              "East    345.0\n",
              "West    120.0\n",
              "Name: Revenue, dtype: float64"
            ]
          },
          "execution_count": 9,
          "metadata": {},
          "output_type": "execute_result"
        }
      ],
      "source": [
        "df.groupby ([\"Region\", \"Product\"])[\"Revenue\"].mean()"
      ]
    },
    {
      "cell_type": "code",
      "execution_count": null,
      "id": "57161a11-0265-4763-b3c8-98be185f15d9",
      "metadata": {
        "id": "57161a11-0265-4763-b3c8-98be185f15d9",
        "outputId": "2a35b2cc-6d44-4416-bd74-f93561799169"
      },
      "outputs": [
        {
          "data": {
            "text/plain": [
              "Region\n",
              "East    148.492424\n",
              "West     42.426407\n",
              "Name: Revenue, dtype: float64"
            ]
          },
          "execution_count": 11,
          "metadata": {},
          "output_type": "execute_result"
        }
      ],
      "source": [
        "df.groupby (\"Region\")[\"Revenue\"].std()"
      ]
    },
    {
      "cell_type": "code",
      "execution_count": null,
      "id": "6199b425-4a70-4c68-9222-2832ccbf4dde",
      "metadata": {
        "id": "6199b425-4a70-4c68-9222-2832ccbf4dde",
        "outputId": "4c656321-6474-49ab-d4e6-fe9e7da16d77"
      },
      "outputs": [
        {
          "data": {
            "text/html": [
              "<div>\n",
              "<style scoped>\n",
              "    .dataframe tbody tr th:only-of-type {\n",
              "        vertical-align: middle;\n",
              "    }\n",
              "\n",
              "    .dataframe tbody tr th {\n",
              "        vertical-align: top;\n",
              "    }\n",
              "\n",
              "    .dataframe thead tr th {\n",
              "        text-align: left;\n",
              "    }\n",
              "\n",
              "    .dataframe thead tr:last-of-type th {\n",
              "        text-align: right;\n",
              "    }\n",
              "</style>\n",
              "<table border=\"1\" class=\"dataframe\">\n",
              "  <thead>\n",
              "    <tr>\n",
              "      <th></th>\n",
              "      <th>Quantity</th>\n",
              "      <th colspan=\"2\" halign=\"left\">Revenue</th>\n",
              "    </tr>\n",
              "    <tr>\n",
              "      <th></th>\n",
              "      <th>sum</th>\n",
              "      <th>sum</th>\n",
              "      <th>mean</th>\n",
              "    </tr>\n",
              "    <tr>\n",
              "      <th>Region</th>\n",
              "      <th></th>\n",
              "      <th></th>\n",
              "      <th></th>\n",
              "    </tr>\n",
              "  </thead>\n",
              "  <tbody>\n",
              "    <tr>\n",
              "      <th>East</th>\n",
              "      <td>160</td>\n",
              "      <td>540.0</td>\n",
              "      <td>180.0</td>\n",
              "    </tr>\n",
              "    <tr>\n",
              "      <th>West</th>\n",
              "      <td>250</td>\n",
              "      <td>420.0</td>\n",
              "      <td>140.0</td>\n",
              "    </tr>\n",
              "  </tbody>\n",
              "</table>\n",
              "</div>"
            ],
            "text/plain": [
              "       Quantity Revenue       \n",
              "            sum     sum   mean\n",
              "Region                        \n",
              "East        160   540.0  180.0\n",
              "West        250   420.0  140.0"
            ]
          },
          "execution_count": 22,
          "metadata": {},
          "output_type": "execute_result"
        }
      ],
      "source": [
        "# Multiple Aggregation\n",
        "\n",
        "df.groupby(\"Region\").agg({\n",
        "    \"Quantity\": \"sum\",\n",
        "    \"Revenue\": [\"sum\", \"mean\"]\n",
        "})"
      ]
    },
    {
      "cell_type": "code",
      "execution_count": null,
      "id": "05a178e4-e6d1-42cc-9b1b-3c720b8f8f34",
      "metadata": {
        "id": "05a178e4-e6d1-42cc-9b1b-3c720b8f8f34"
      },
      "outputs": [],
      "source": [
        "# Basic Visualization"
      ]
    },
    {
      "cell_type": "code",
      "execution_count": null,
      "id": "92cd9892-e7d9-4816-b0e6-a4718e4377a9",
      "metadata": {
        "id": "92cd9892-e7d9-4816-b0e6-a4718e4377a9"
      },
      "outputs": [],
      "source": [
        "import matplotlib.pyplot as plt\n",
        "import seaborn as sns\n"
      ]
    },
    {
      "cell_type": "code",
      "execution_count": null,
      "id": "39ce3308-9ba2-43f5-a67b-2f79a01557c6",
      "metadata": {
        "id": "39ce3308-9ba2-43f5-a67b-2f79a01557c6",
        "outputId": "8ad61ccf-3fc8-4f5c-e2a6-93666f101690"
      },
      "outputs": [
        {
          "data": {
            "image/png": "[encoded data removed]",
            "text/plain": [
              "<Figure size 640x480 with 1 Axes>"
            ]
          },
          "metadata": {},
          "output_type": "display_data"
        }
      ],
      "source": [
        "# Bar chart\n",
        "df.groupby(\"Region\")[\"Revenue\"].sum().plot(kind=\"bar\")\n",
        "plt.title(\"Revenue by Region\")\n",
        "plt.ylabel(\"Total Revenue\")\n",
        "plt.show()"
      ]
    },
    {
      "cell_type": "code",
      "execution_count": null,
      "id": "76d8b59e-d671-4a23-b540-454f6215e1ab",
      "metadata": {
        "id": "76d8b59e-d671-4a23-b540-454f6215e1ab",
        "outputId": "59097a49-a30c-4847-f308-405133bb20ce"
      },
      "outputs": [
        {
          "data": {
            "image/png": "[encoded data removed]",
            "text/plain": [
              "<Figure size 640x480 with 1 Axes>"
            ]
          },
          "metadata": {},
          "output_type": "display_data"
        }
      ],
      "source": [
        "# Histogram\n",
        "\n",
        "df[\"Revenue\"].hist(bins=10)\n",
        "plt.title(\"Distribution of Order Revenue\")\n",
        "plt.xlabel(\"Revenue\")\n",
        "plt.show()"
      ]
    },
    {
      "cell_type": "code",
      "execution_count": null,
      "id": "113b11a3-9bfc-45d8-a0f9-a27c1f876f1d",
      "metadata": {
        "id": "113b11a3-9bfc-45d8-a0f9-a27c1f876f1d",
        "outputId": "a8311461-0e8b-4e49-9b54-fffe6e3c5b59"
      },
      "outputs": [
        {
          "data": {
            "image/png": "[encoded data removed]",
            "text/plain": [
              "<Figure size 640x480 with 1 Axes>"
            ]
          },
          "metadata": {},
          "output_type": "display_data"
        }
      ],
      "source": [
        "# Scatter Plot\n",
        "plt.scatter(df[\"Price\"], df[\"Quantity\"])\n",
        "plt.title(\"Price vs. Quantity\")\n",
        "plt.xlabel(\"Price\")\n",
        "plt.ylabel(\"Quantity\")\n",
        "plt.show()"
      ]
    }
  ],
  "metadata": {
    "kernelspec": {
      "display_name": "Python [conda env:base] *",
      "language": "python",
      "name": "conda-base-py"
    },
    "language_info": {
      "codemirror_mode": {
        "name": "ipython",
        "version": 3
      },
      "file_extension": ".py",
      "mimetype": "text/x-python",
      "name": "python",
      "nbconvert_exporter": "python",
      "pygments_lexer": "ipython3",
      "version": "3.13.5"
    },
    "colab": {
      "provenance": []
    }
  },
  "nbformat": 4,
  "nbformat_minor": 5
}