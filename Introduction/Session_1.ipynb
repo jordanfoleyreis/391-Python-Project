{
  "cells": [
    {
      "cell_type": "markdown",
      "id": "2045ee7b-0704-4571-b19f-5154fefc510c",
      "metadata": {
        "id": "2045ee7b-0704-4571-b19f-5154fefc510c"
      },
      "source": [
        "Session 1:\n",
        "- Python Environment and Setup"
      ]
    },
    {
      "cell_type": "code",
      "execution_count": null,
      "id": "1a83cfa5-2f79-47ff-b590-bc210253654e",
      "metadata": {
        "id": "1a83cfa5-2f79-47ff-b590-bc210253654e",
        "outputId": "972089d2-4088-4900-dfce-2b97f84b9e81"
      },
      "outputs": [
        {
          "name": "stdout",
          "output_type": "stream",
          "text": [
            "Business Analytics for Decision Making BSAN391\n"
          ]
        }
      ],
      "source": [
        "print(\"Business Analytics for Decision Making BSAN391\")"
      ]
    },
    {
      "cell_type": "code",
      "execution_count": null,
      "id": "7bcae938-9bd1-40dc-ac4b-db58f5cb61c6",
      "metadata": {
        "id": "7bcae938-9bd1-40dc-ac4b-db58f5cb61c6",
        "outputId": "0c2214ea-3a3e-4622-d068-46e0e3676ed2"
      },
      "outputs": [
        {
          "data": {
            "text/plain": [
              "7"
            ]
          },
          "execution_count": 2,
          "metadata": {},
          "output_type": "execute_result"
        }
      ],
      "source": [
        "x=3\n",
        "y=4\n",
        "x+y"
      ]
    },
    {
      "cell_type": "code",
      "execution_count": null,
      "id": "b77db265-103f-4296-8d9d-9f05c6f42b7e",
      "metadata": {
        "id": "b77db265-103f-4296-8d9d-9f05c6f42b7e"
      },
      "outputs": [],
      "source": [
        "#pandas (for data)\n",
        "#numpy (for numerical work)\n",
        "#matplotlib (for plots)\n",
        "#scipy.optimize or PuLP (for optimization problems)"
      ]
    },
    {
      "cell_type": "code",
      "execution_count": null,
      "id": "69e2553d-7db6-4b5d-970d-4d16969ab6fa",
      "metadata": {
        "id": "69e2553d-7db6-4b5d-970d-4d16969ab6fa",
        "outputId": "d8e5dcae-95e4-48e8-a090-2649d8b455a9"
      },
      "outputs": [
        {
          "name": "stdout",
          "output_type": "stream",
          "text": [
            "Requirement already satisfied: pandas in c:\\users\\hatef\\anaconda3\\lib\\site-packages (2.2.3)\n",
            "Requirement already satisfied: numpy in c:\\users\\hatef\\anaconda3\\lib\\site-packages (2.1.3)\n",
            "Requirement already satisfied: matplotlib in c:\\users\\hatef\\anaconda3\\lib\\site-packages (3.10.0)\n",
            "Requirement already satisfied: scipy in c:\\users\\hatef\\anaconda3\\lib\\site-packages (1.15.3)\n",
            "Requirement already satisfied: pulp in c:\\users\\hatef\\anaconda3\\lib\\site-packages (3.2.1)\n",
            "Requirement already satisfied: python-dateutil>=2.8.2 in c:\\users\\hatef\\anaconda3\\lib\\site-packages (from pandas) (2.9.0.post0)\n",
            "Requirement already satisfied: pytz>=2020.1 in c:\\users\\hatef\\anaconda3\\lib\\site-packages (from pandas) (2024.1)\n",
            "Requirement already satisfied: tzdata>=2022.7 in c:\\users\\hatef\\anaconda3\\lib\\site-packages (from pandas) (2025.2)\n",
            "Requirement already satisfied: contourpy>=1.0.1 in c:\\users\\hatef\\anaconda3\\lib\\site-packages (from matplotlib) (1.3.1)\n",
            "Requirement already satisfied: cycler>=0.10 in c:\\users\\hatef\\anaconda3\\lib\\site-packages (from matplotlib) (0.11.0)\n",
            "Requirement already satisfied: fonttools>=4.22.0 in c:\\users\\hatef\\anaconda3\\lib\\site-packages (from matplotlib) (4.55.3)\n",
            "Requirement already satisfied: kiwisolver>=1.3.1 in c:\\users\\hatef\\anaconda3\\lib\\site-packages (from matplotlib) (1.4.8)\n",
            "Requirement already satisfied: packaging>=20.0 in c:\\users\\hatef\\anaconda3\\lib\\site-packages (from matplotlib) (24.2)\n",
            "Requirement already satisfied: pillow>=8 in c:\\users\\hatef\\anaconda3\\lib\\site-packages (from matplotlib) (11.1.0)\n",
            "Requirement already satisfied: pyparsing>=2.3.1 in c:\\users\\hatef\\anaconda3\\lib\\site-packages (from matplotlib) (3.2.0)\n",
            "Requirement already satisfied: six>=1.5 in c:\\users\\hatef\\anaconda3\\lib\\site-packages (from python-dateutil>=2.8.2->pandas) (1.17.0)\n"
          ]
        }
      ],
      "source": [
        "!pip install pandas numpy matplotlib scipy pulp"
      ]
    },
    {
      "cell_type": "code",
      "execution_count": null,
      "id": "0de6f545-63db-4223-8f00-440e47789229",
      "metadata": {
        "id": "0de6f545-63db-4223-8f00-440e47789229"
      },
      "outputs": [],
      "source": [
        "import pandas as pd\n",
        "import numpy as np\n",
        "import matplotlib.pyplot as plt\n",
        "import scipy.optimize as opt\n",
        "import pulp"
      ]
    },
    {
      "cell_type": "code",
      "execution_count": null,
      "id": "d9f204e3-9a7e-4fe1-81b8-ac191769228e",
      "metadata": {
        "id": "d9f204e3-9a7e-4fe1-81b8-ac191769228e"
      },
      "outputs": [],
      "source": [
        "# Create a Data Frame:"
      ]
    },
    {
      "cell_type": "code",
      "execution_count": null,
      "id": "e058508e-e841-45ed-86d8-4e19a2900c9e",
      "metadata": {
        "id": "e058508e-e841-45ed-86d8-4e19a2900c9e",
        "outputId": "560299be-bde5-46d3-e588-6b297259ff9c"
      },
      "outputs": [
        {
          "data": {
            "text/html": [
              "<div>\n",
              "<style scoped>\n",
              "    .dataframe tbody tr th:only-of-type {\n",
              "        vertical-align: middle;\n",
              "    }\n",
              "\n",
              "    .dataframe tbody tr th {\n",
              "        vertical-align: top;\n",
              "    }\n",
              "\n",
              "    .dataframe thead th {\n",
              "        text-align: right;\n",
              "    }\n",
              "</style>\n",
              "<table border=\"1\" class=\"dataframe\">\n",
              "  <thead>\n",
              "    <tr style=\"text-align: right;\">\n",
              "      <th></th>\n",
              "      <th>Product</th>\n",
              "      <th>Price</th>\n",
              "      <th>Quantity</th>\n",
              "    </tr>\n",
              "  </thead>\n",
              "  <tbody>\n",
              "    <tr>\n",
              "      <th>0</th>\n",
              "      <td>A</td>\n",
              "      <td>10</td>\n",
              "      <td>100</td>\n",
              "    </tr>\n",
              "    <tr>\n",
              "      <th>1</th>\n",
              "      <td>B</td>\n",
              "      <td>15</td>\n",
              "      <td>80</td>\n",
              "    </tr>\n",
              "    <tr>\n",
              "      <th>2</th>\n",
              "      <td>C</td>\n",
              "      <td>7</td>\n",
              "      <td>120</td>\n",
              "    </tr>\n",
              "  </tbody>\n",
              "</table>\n",
              "</div>"
            ],
            "text/plain": [
              "  Product  Price  Quantity\n",
              "0       A     10       100\n",
              "1       B     15        80\n",
              "2       C      7       120"
            ]
          },
          "metadata": {},
          "output_type": "display_data"
        },
        {
          "data": {
            "text/html": [
              "<div>\n",
              "<style scoped>\n",
              "    .dataframe tbody tr th:only-of-type {\n",
              "        vertical-align: middle;\n",
              "    }\n",
              "\n",
              "    .dataframe tbody tr th {\n",
              "        vertical-align: top;\n",
              "    }\n",
              "\n",
              "    .dataframe thead th {\n",
              "        text-align: right;\n",
              "    }\n",
              "</style>\n",
              "<table border=\"1\" class=\"dataframe\">\n",
              "  <thead>\n",
              "    <tr style=\"text-align: right;\">\n",
              "      <th></th>\n",
              "      <th>Product</th>\n",
              "      <th>Price</th>\n",
              "      <th>Quantity</th>\n",
              "      <th>Revenue</th>\n",
              "    </tr>\n",
              "  </thead>\n",
              "  <tbody>\n",
              "    <tr>\n",
              "      <th>0</th>\n",
              "      <td>A</td>\n",
              "      <td>10</td>\n",
              "      <td>100</td>\n",
              "      <td>1000</td>\n",
              "    </tr>\n",
              "    <tr>\n",
              "      <th>1</th>\n",
              "      <td>B</td>\n",
              "      <td>15</td>\n",
              "      <td>80</td>\n",
              "      <td>1200</td>\n",
              "    </tr>\n",
              "    <tr>\n",
              "      <th>2</th>\n",
              "      <td>C</td>\n",
              "      <td>7</td>\n",
              "      <td>120</td>\n",
              "      <td>840</td>\n",
              "    </tr>\n",
              "  </tbody>\n",
              "</table>\n",
              "</div>"
            ],
            "text/plain": [
              "  Product  Price  Quantity  Revenue\n",
              "0       A     10       100     1000\n",
              "1       B     15        80     1200\n",
              "2       C      7       120      840"
            ]
          },
          "metadata": {},
          "output_type": "display_data"
        }
      ],
      "source": [
        "df = pd.DataFrame ({\n",
        "   'Product' : ['A', 'B', 'C'],\n",
        "    'Price'  : [10,15,7],\n",
        "    'Quantity' : [100,80,120]\n",
        "})\n",
        "\n",
        "display (df)\n",
        "df ['Revenue'] = df['Price'] * df ['Quantity']\n",
        "\n",
        "display (df)\n"
      ]
    },
    {
      "cell_type": "code",
      "execution_count": null,
      "id": "73631d5f-e352-41a7-b46a-2ee5c1956ba6",
      "metadata": {
        "id": "73631d5f-e352-41a7-b46a-2ee5c1956ba6",
        "outputId": "bde0dce3-1cc9-4f2a-8c7d-7b4e075b761e"
      },
      "outputs": [
        {
          "name": "stdout",
          "output_type": "stream",
          "text": [
            "OFV*: 3.0 at x= [-2.00000001]\n"
          ]
        }
      ],
      "source": [
        "# simple quadratic optimization model\n",
        "from scipy import optimize\n",
        "\n",
        "def objective (x):\n",
        "    return (x+2)**2+3\n",
        "\n",
        "result = optimize.minimize(objective, x0 = 2)\n",
        "print(\"OFV*:\", result.fun, \"at x=\", result.x)"
      ]
    },
    {
      "cell_type": "code",
      "execution_count": null,
      "id": "3893ec6e-88e3-42fb-9e0e-6817c075824b",
      "metadata": {
        "id": "3893ec6e-88e3-42fb-9e0e-6817c075824b",
        "outputId": "374ef685-7f58-47fb-d74e-1f35dce6b0c2"
      },
      "outputs": [
        {
          "name": "stdout",
          "output_type": "stream",
          "text": [
            "LP Solution: x = 10.0 y = 0.0\n",
            "Objective = 30.0\n"
          ]
        }
      ],
      "source": [
        "# Simple LP\n",
        "model = pulp.LpProblem(\"Simple_LP\", pulp.LpMaximize)  #lowercase p is essential! # spaces in names are not suggested!\n",
        "\n",
        "x = pulp.LpVariable('x', lowBound=0)\n",
        "y = pulp.LpVariable('y', lowBound=0)\n",
        "\n",
        "model += 3*x + 2*y   # Objective function\n",
        "model += x + y <= 10\n",
        "model += x - y >= 3\n",
        "\n",
        "model.solve()\n",
        "\n",
        "print(\"LP Solution:\", \"x =\", x.varValue, \"y =\", y.varValue)\n",
        "print(\"Objective =\", pulp.value(model.objective))"
      ]
    },
    {
      "cell_type": "code",
      "execution_count": null,
      "id": "b864ad56-bc7c-4c08-9a13-35aa7c83c4bb",
      "metadata": {
        "id": "b864ad56-bc7c-4c08-9a13-35aa7c83c4bb"
      },
      "outputs": [],
      "source": []
    }
  ],
  "metadata": {
    "kernelspec": {
      "display_name": "Python [conda env:base] *",
      "language": "python",
      "name": "conda-base-py"
    },
    "language_info": {
      "codemirror_mode": {
        "name": "ipython",
        "version": 3
      },
      "file_extension": ".py",
      "mimetype": "text/x-python",
      "name": "python",
      "nbconvert_exporter": "python",
      "pygments_lexer": "ipython3",
      "version": "3.13.5"
    },
    "colab": {
      "provenance": []
    }
  },
  "nbformat": 4,
  "nbformat_minor": 5
}